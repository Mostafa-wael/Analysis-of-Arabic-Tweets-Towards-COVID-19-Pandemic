{
 "cells": [
  {
   "attachments": {},
   "cell_type": "markdown",
   "metadata": {},
   "source": [
    "# Imports\n"
   ]
  },
  {
   "cell_type": "code",
   "execution_count": 1,
   "metadata": {},
   "outputs": [
    {
     "name": "stderr",
     "output_type": "stream",
     "text": [
      "[nltk_data] Downloading package vader_lexicon to\n",
      "[nltk_data]     /home/robert/nltk_data...\n",
      "[nltk_data]   Package vader_lexicon is already up-to-date!\n",
      "[nltk_data] Downloading package stopwords to /home/robert/nltk_data...\n",
      "[nltk_data]   Package stopwords is already up-to-date!\n"
     ]
    }
   ],
   "source": [
    "# For Data\n",
    "import numpy as np\n",
    "import pandas as pd\n",
    "import pickle\n",
    "\n",
    "\n",
    "from preprocessing import *\n",
    "from feature_extractor import *\n",
    "from model import *\n"
   ]
  },
  {
   "cell_type": "code",
   "execution_count": null,
   "metadata": {},
   "outputs": [],
   "source": [
    "test_file = 'Dataset/test.csv'\n",
    "test_df = pd.read_csv(test_file)"
   ]
  },
  {
   "cell_type": "code",
   "execution_count": 3,
   "metadata": {},
   "outputs": [],
   "source": [
    "# clean the data\n",
    "test_data = cleanData(test_df, 'test' , clean=False, clearData=False)\n",
    "\n",
    "# lemmatize the data\n",
    "st = ISRIStemmer()\n",
    "lemma = test_data.text.apply(lambda x: ([st.stem(word) for word in x.split()]))\n",
    "\n",
    "# load the feature models\n",
    "w2v_model = pickle.load(open('out/models/features/w2v_model.pkl', 'rb'))\n",
    "bow_model = pickle.load(open('out/models/features/bow_model.pkl', 'rb'))\n",
    "tfidf_model = pickle.load(open('out/models/features/tfidf_model.pkl', 'rb'))\n",
    "\n",
    "# get the word embeddings for each tweet\n",
    "x_test = get_features(w2v_model, bow_model, tfidf_model, lemma, 1, 1, 1) # get the word embeddings for each tweet\n",
    "x_test= np.array([np.array(xi) for xi in x_test.to_numpy()])\n",
    "\n",
    "\n",
    "# load the models\n",
    "stance_model = loadModel('out/models/stance/clf.model')\n",
    "category_model = loadModel('out/models/clf.model')\n",
    "\n",
    "# get the predictions\n",
    "stances = stance_model.predict(x_test)\n",
    "categories = category_model.predict(x_test)\n",
    "\n",
    "out_df = pd.DataFrame({'id': test_df.id, 'category': categories, 'stance': stances})\n",
    "\n",
    "# save the predictions in csv file\n",
    "out_df.to_csv('out/submission/predictions.csv', index=False)\n"
   ]
  },
  {
   "cell_type": "code",
   "execution_count": null,
   "metadata": {},
   "outputs": [],
   "source": []
  }
 ],
 "metadata": {
  "kernelspec": {
   "display_name": "base",
   "language": "python",
   "name": "python3"
  },
  "language_info": {
   "codemirror_mode": {
    "name": "ipython",
    "version": 3
   },
   "file_extension": ".py",
   "mimetype": "text/x-python",
   "name": "python",
   "nbconvert_exporter": "python",
   "pygments_lexer": "ipython3",
   "version": "3.9.13 (main, Aug 25 2022, 23:26:10) \n[GCC 11.2.0]"
  },
  "orig_nbformat": 4,
  "vscode": {
   "interpreter": {
    "hash": "bdae8ebc0151ec65c4f1198b193fec26fb9b849a179ab75edca17b99fd707516"
   }
  }
 },
 "nbformat": 4,
 "nbformat_minor": 2
}
