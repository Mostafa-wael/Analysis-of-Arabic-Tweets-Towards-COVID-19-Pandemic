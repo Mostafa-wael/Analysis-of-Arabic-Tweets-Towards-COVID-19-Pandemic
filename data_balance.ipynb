{
 "cells": [
  {
   "cell_type": "code",
   "execution_count": 301,
   "metadata": {},
   "outputs": [],
   "source": [
    "import numpy as np\n",
    "import pandas as pd\n",
    "import ast\n",
    "import matplotlib.pyplot as plt\n",
    "import seaborn as sns\n",
    "from imblearn.over_sampling import SMOTE\n",
    "from collections import Counter\n",
    "from sklearn.preprocessing import LabelEncoder"
   ]
  },
  {
   "cell_type": "code",
   "execution_count": 302,
   "metadata": {},
   "outputs": [
    {
     "name": "stdout",
     "output_type": "stream",
     "text": [
      "102\n",
      "Train dataset size = (6557, 100)\n"
     ]
    }
   ],
   "source": [
    "features = np.load('out/train_data/features.npy', allow_pickle=True)\n",
    "# convert features into 2d array\n",
    "features = np.array([np.array(xi) for xi in features])\n",
    "labels = np.load('out/train_data/labels.npy', allow_pickle=True)\n",
    "columns = [\"f\" + str(i + 1) for i in range(len(features[0]))]\n",
    "\n",
    "df = pd.DataFrame(features, columns=columns)\n",
    "df = pd.DataFrame(features)\n",
    "df['stance'] = labels[:,0]\n",
    "df['category'] = labels[:,1]\n",
    "\n",
    "print(len(df.axes[1]))\n",
    "print(f\"Train dataset size = {features.shape}\")"
   ]
  },
  {
   "attachments": {},
   "cell_type": "markdown",
   "metadata": {},
   "source": [
    "# Balance the dataset with respect to the stances"
   ]
  },
  {
   "cell_type": "code",
   "execution_count": 303,
   "metadata": {},
   "outputs": [
    {
     "name": "stdout",
     "output_type": "stream",
     "text": [
      "Class=2, n=5207 (79.411%)\n",
      "Class=1, n=954 (14.549%)\n",
      "Class=0, n=396 (6.039%)\n"
     ]
    }
   ],
   "source": [
    "# Unbalanced dataset\n",
    "data = df.values\n",
    "# split into input and output elements\n",
    "X, y = data[:, :-2], data[:, -2]\n",
    "# label encode the target variable\n",
    "y = LabelEncoder().fit_transform(y)\n",
    "# summarize distribution\n",
    "counter = Counter(y)\n",
    "for k,v in counter.items():\n",
    "    per = v / len(y) * 100\n",
    "    print('Class=%d, n=%d (%.3f%%)' % (k, v, per))"
   ]
  },
  {
   "cell_type": "code",
   "execution_count": 304,
   "metadata": {},
   "outputs": [
    {
     "name": "stdout",
     "output_type": "stream",
     "text": [
      "Class=2, n=5207 (33.333%)\n",
      "Class=1, n=5207 (33.333%)\n",
      "Class=0, n=5207 (33.333%)\n"
     ]
    }
   ],
   "source": [
    "# Balance the dataset according to stances\n",
    "y = LabelEncoder().fit_transform(y)\n",
    "# transform the dataset\n",
    "oversample = SMOTE()\n",
    "X, y = oversample.fit_resample(X, y)\n",
    "# summarize distribution\n",
    "counter = Counter(y)\n",
    "for k,v in counter.items():\n",
    "    per = v / len(y) * 100\n",
    "    print('Class=%d, n=%d (%.3f%%)' % (k, v, per))"
   ]
  },
  {
   "cell_type": "code",
   "execution_count": 306,
   "metadata": {},
   "outputs": [],
   "source": [
    "np.save('out/balanced_data_stances/features.npy', X)\n",
    "np.save('out/balanced_data_stances/stances.npy', y)"
   ]
  }
 ],
 "metadata": {
  "kernelspec": {
   "display_name": "Python 3",
   "language": "python",
   "name": "python3"
  },
  "language_info": {
   "codemirror_mode": {
    "name": "ipython",
    "version": 3
   },
   "file_extension": ".py",
   "mimetype": "text/x-python",
   "name": "python",
   "nbconvert_exporter": "python",
   "pygments_lexer": "ipython3",
   "version": "3.8.6"
  },
  "orig_nbformat": 4,
  "vscode": {
   "interpreter": {
    "hash": "43b010d9f7d982b0242266748a4ec71b1a1d9ef54f57a230cfc8a9c34419b385"
   }
  }
 },
 "nbformat": 4,
 "nbformat_minor": 2
}
